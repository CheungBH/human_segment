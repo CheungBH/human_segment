{
 "cells": [
  {
   "cell_type": "markdown",
   "metadata": {},
   "source": [
    "### 导入相关库"
   ]
  },
  {
   "cell_type": "code",
   "execution_count": 1,
   "metadata": {
    "collapsed": true
   },
   "outputs": [],
   "source": [
    "import numpy as np\n",
    "import os"
   ]
  },
  {
   "cell_type": "markdown",
   "metadata": {},
   "source": [
    "### 利用自定义的数据生成器，加载预处理过后的.npy文件"
   ]
  },
  {
   "cell_type": "code",
   "execution_count": 11,
   "metadata": {},
   "outputs": [
    {
     "name": "stdout",
     "output_type": "stream",
     "text": [
      "Found 141 files belonging to 2 classes.\n",
      "     fight :  [1 0]\n",
      "   nofight :  [0 1]\n",
      "Found 60 files belonging to 2 classes.\n",
      "     fight :  [1 0]\n",
      "   nofight :  [0 1]\n"
     ]
    }
   ],
   "source": [
    "from my_utils import DataGenerator\n",
    "\n",
    "train_generator = DataGenerator(directory='np_data/train', batch_size=8)\n",
    "val_generator = DataGenerator(directory='np_data/val', batch_size=8)"
   ]
  },
  {
   "cell_type": "markdown",
   "metadata": {},
   "source": [
    "### 构建模型"
   ]
  },
  {
   "cell_type": "code",
   "execution_count": 12,
   "metadata": {},
   "outputs": [],
   "source": [
    "from keras.models import Sequential\n",
    "from keras.layers import Dense, Flatten, Conv3D, MaxPooling3D"
   ]
  },
  {
   "cell_type": "code",
   "execution_count": 13,
   "metadata": {
    "collapsed": true
   },
   "outputs": [],
   "source": [
    "model = Sequential()\n",
    "model.add(Conv3D(\n",
    "    1, kernel_size=(3,3,3), strides=(1,1,1), kernel_initializer='he_normal', \n",
    "    input_shape=(16,112,112,3), activation='relu', padding='same'))\n",
    "model.add(MaxPooling3D(pool_size=(1,2,2)))\n",
    "\n",
    "model.add(Conv3D(\n",
    "    1, kernel_size=(3,3,3), strides=(1,1,1), kernel_initializer='he_normal', activation='relu', padding='same'))\n",
    "model.add(MaxPooling3D(pool_size=(4,4,4)))\n",
    "\n",
    "model.add(Flatten())\n",
    "model.add(Dense(16, activation='tanh'))\n",
    "model.add(Dense(2, activation='softmax'))"
   ]
  },
  {
   "cell_type": "code",
   "execution_count": 14,
   "metadata": {},
   "outputs": [
    {
     "name": "stdout",
     "output_type": "stream",
     "text": [
      "_________________________________________________________________\n",
      "Layer (type)                 Output Shape              Param #   \n",
      "=================================================================\n",
      "conv3d_3 (Conv3D)            (None, 16, 112, 112, 1)   82        \n",
      "_________________________________________________________________\n",
      "max_pooling3d_3 (MaxPooling3 (None, 16, 56, 56, 1)     0         \n",
      "_________________________________________________________________\n",
      "conv3d_4 (Conv3D)            (None, 16, 56, 56, 1)     28        \n",
      "_________________________________________________________________\n",
      "max_pooling3d_4 (MaxPooling3 (None, 4, 14, 14, 1)      0         \n",
      "_________________________________________________________________\n",
      "flatten_2 (Flatten)          (None, 784)               0         \n",
      "_________________________________________________________________\n",
      "dense_3 (Dense)              (None, 16)                12560     \n",
      "_________________________________________________________________\n",
      "dense_4 (Dense)              (None, 2)                 34        \n",
      "=================================================================\n",
      "Total params: 12,704\n",
      "Trainable params: 12,704\n",
      "Non-trainable params: 0\n",
      "_________________________________________________________________\n"
     ]
    }
   ],
   "source": [
    "model.summary()"
   ]
  },
  {
   "cell_type": "markdown",
   "metadata": {},
   "source": [
    "### 编译模型"
   ]
  },
  {
   "cell_type": "code",
   "execution_count": 15,
   "metadata": {
    "collapsed": true
   },
   "outputs": [],
   "source": [
    "model.compile(optimizer='adam', loss='categorical_crossentropy', metrics=['accuracy'])"
   ]
  },
  {
   "cell_type": "markdown",
   "metadata": {},
   "source": [
    "### 训练模型"
   ]
  },
  {
   "cell_type": "code",
   "execution_count": 16,
   "metadata": {},
   "outputs": [
    {
     "name": "stdout",
     "output_type": "stream",
     "text": [
      "Epoch 1/10\n",
      " - 1s - loss: 0.6318 - acc: 0.6802 - val_loss: 0.5100 - val_acc: 0.7500\n",
      "Epoch 2/10\n",
      " - 0s - loss: 0.4522 - acc: 0.8461 - val_loss: 0.4302 - val_acc: 0.9000\n",
      "Epoch 3/10\n",
      " - 0s - loss: 0.4161 - acc: 0.8957 - val_loss: 0.3226 - val_acc: 0.9500\n",
      "Epoch 4/10\n",
      " - 0s - loss: 0.3801 - acc: 0.8292 - val_loss: 0.3437 - val_acc: 0.8833\n",
      "Epoch 5/10\n",
      " - 0s - loss: 0.2902 - acc: 0.9196 - val_loss: 0.2676 - val_acc: 0.9500\n",
      "Epoch 6/10\n",
      " - 0s - loss: 0.2616 - acc: 0.9513 - val_loss: 0.3054 - val_acc: 0.9667\n",
      "Epoch 7/10\n",
      " - 0s - loss: 0.2887 - acc: 0.9543 - val_loss: 0.3045 - val_acc: 0.9667\n",
      "Epoch 8/10\n",
      " - 0s - loss: 0.2972 - acc: 0.9265 - val_loss: 0.2667 - val_acc: 0.9667\n",
      "Epoch 9/10\n",
      " - 0s - loss: 0.2734 - acc: 0.9583 - val_loss: 0.2694 - val_acc: 0.9500\n",
      "Epoch 10/10\n",
      " - 0s - loss: 0.2668 - acc: 0.9652 - val_loss: 0.4031 - val_acc: 0.7167\n"
     ]
    }
   ],
   "source": [
    "hist = model.fit_generator(train_generator, \n",
    "                           validation_data=val_generator,\n",
    "                           verbose=2, \n",
    "                           epochs=10)"
   ]
  },
  {
   "cell_type": "markdown",
   "metadata": {},
   "source": [
    "## 可视化指标"
   ]
  },
  {
   "cell_type": "code",
   "execution_count": 8,
   "metadata": {
    "collapsed": true
   },
   "outputs": [],
   "source": [
    "from matplotlib import pyplot as plt\n",
    "%matplotlib inline"
   ]
  },
  {
   "cell_type": "code",
   "execution_count": 9,
   "metadata": {},
   "outputs": [
    {
     "data": {
      "image/png": "[encoded data removed]",
      "text/plain": [
       "<matplotlib.figure.Figure at 0x7fdf0eb310b8>"
      ]
     },
     "metadata": {},
     "output_type": "display_data"
    }
   ],
   "source": [
    "plt.plot(hist.history['acc'])\n",
    "plt.plot(hist.history['val_acc'])\n",
    "plt.title('Model Accuracy')\n",
    "plt.ylabel('accuracy')\n",
    "plt.xlabel('epoch')\n",
    "plt.legend(['train', 'val'], loc='lower right')\n",
    "plt.tight_layout()"
   ]
  },
  {
   "cell_type": "code",
   "execution_count": 10,
   "metadata": {},
   "outputs": [
    {
     "data": {
      "image/png": "[encoded data removed]",
      "text/plain": [
       "<matplotlib.figure.Figure at 0x7fdf0ead7e10>"
      ]
     },
     "metadata": {},
     "output_type": "display_data"
    }
   ],
   "source": [
    "plt.plot(hist.history['loss'])\n",
    "plt.plot(hist.history['val_loss'])\n",
    "plt.title('Model Loss')\n",
    "plt.ylabel('loss')\n",
    "plt.xlabel('epoch')\n",
    "plt.legend(['train', 'val'], loc='upper right')\n",
    "plt.tight_layout()"
   ]
  },
  {
   "cell_type": "code",
   "execution_count": null,
   "metadata": {
    "collapsed": true
   },
   "outputs": [],
   "source": []
  },
  {
   "cell_type": "code",
   "execution_count": null,
   "metadata": {
    "collapsed": true
   },
   "outputs": [],
   "source": []
  }
 ],
 "metadata": {
  "kernelspec": {
   "display_name": "Python 3",
   "language": "python",
   "name": "python3"
  },
  "language_info": {
   "codemirror_mode": {
    "name": "ipython",
    "version": 3
   },
   "file_extension": ".py",
   "mimetype": "text/x-python",
   "name": "python",
   "nbconvert_exporter": "python",
   "pygments_lexer": "ipython3",
   "version": "3.6.5"
  }
 },
 "nbformat": 4,
 "nbformat_minor": 2
}
