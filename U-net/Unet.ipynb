{
 "cells": [
  {
   "cell_type": "markdown",
   "metadata": {},
   "source": [
    "### 导入相关库"
   ]
  },
  {
   "cell_type": "code",
   "execution_count": 1,
   "metadata": {
    "collapsed": true
   },
   "outputs": [],
   "source": [
    "from keras.preprocessing.image import ImageDataGenerator\n",
    "from matplotlib import pyplot as plt \n",
    "import numpy as np \n",
    "import os\n",
    "import cv2\n",
    "\n",
    "%matplotlib inline"
   ]
  },
  {
   "cell_type": "markdown",
   "metadata": {},
   "source": [
    "### 初始化训练集数据生成器"
   ]
  },
  {
   "cell_type": "code",
   "execution_count": 2,
   "metadata": {},
   "outputs": [
    {
     "name": "stderr",
     "output_type": "stream",
     "text": [
      "/opt/Anaconda3/lib/python3.6/site-packages/h5py/__init__.py:34: FutureWarning: Conversion of the second argument of issubdtype from `float` to `np.floating` is deprecated. In future, it will be treated as `np.float64 == np.dtype(float).type`.\n",
      "  from ._conv import register_converters as _register_converters\n",
      "Using TensorFlow backend.\n"
     ]
    },
    {
     "name": "stdout",
     "output_type": "stream",
     "text": [
      "Found 4002 images belonging to 1 classes.\n",
      "Found 4002 images belonging to 1 classes.\n"
     ]
    }
   ],
   "source": [
    "# specify the params\n",
    "data_gen_args = dict(featurewise_center=False,\n",
    "                     featurewise_std_normalization=False,\n",
    "                     rescale= 1/255.0,\n",
    "                     rotation_range=90,\n",
    "                     width_shift_range=0.2,\n",
    "                     height_shift_range=0.2,\n",
    "                     zoom_range=0.2)\n",
    " \n",
    "# 创建图像和其对应Mask的生成器\n",
    "train_image_datagen = ImageDataGenerator(**data_gen_args)\n",
    "train_mask_datagen = ImageDataGenerator(**data_gen_args)\n",
    "\n",
    "# 设置相同seed，确保image与mask对应一致\n",
    "seed = 1\n",
    "batch_size=32\n",
    "\n",
    "train_image_generator = train_image_datagen.flow_from_directory(\n",
    "    'data/train/images',\n",
    "    class_mode=None,\n",
    "    batch_size=batch_size,\n",
    "    target_size=(224,224),\n",
    "    color_mode='rgb',\n",
    "    seed=seed)\n",
    "train_mask_generator = train_mask_datagen.flow_from_directory(\n",
    "    'data/train/masks',\n",
    "    class_mode=None,\n",
    "    batch_size=batch_size,\n",
    "    target_size=(224,224),\n",
    "    color_mode='grayscale',\n",
    "    seed=seed)\n",
    "\n",
    "# 结合image和mask作为训练数据生成器\n",
    "train_generator = zip(train_image_generator, train_mask_generator)"
   ]
  },
  {
   "cell_type": "markdown",
   "metadata": {},
   "source": [
    "### 初始化验证集的数据生成器"
   ]
  },
  {
   "cell_type": "code",
   "execution_count": 3,
   "metadata": {},
   "outputs": [
    {
     "name": "stdout",
     "output_type": "stream",
     "text": [
      "Found 1709 images belonging to 1 classes.\n",
      "Found 1709 images belonging to 1 classes.\n"
     ]
    }
   ],
   "source": [
    "# specify the params\n",
    "data_gen_args = dict(featurewise_center=False,\n",
    "                     featurewise_std_normalization=False,\n",
    "                     rescale= 1/255.0)\n",
    "\n",
    " \n",
    "# 创建图像和其对应Mask的生成器\n",
    "val_image_datagen = ImageDataGenerator(**data_gen_args)\n",
    "val_mask_datagen = ImageDataGenerator(**data_gen_args)\n",
    "\n",
    "# 设置相同seed，确保image与mask对应一致\n",
    "seed = 1\n",
    "batch_size=32\n",
    "\n",
    "val_image_generator = val_image_datagen.flow_from_directory(\n",
    "    'data/val/images',\n",
    "    class_mode=None,\n",
    "    batch_size=batch_size,\n",
    "    target_size=(224,224),\n",
    "    color_mode='rgb',\n",
    "    seed=seed)\n",
    "val_mask_generator = val_mask_datagen.flow_from_directory(\n",
    "    'data/val/masks',\n",
    "    class_mode=None,\n",
    "    batch_size=batch_size,\n",
    "    target_size=(224,224),\n",
    "    color_mode='grayscale',\n",
    "    seed=seed)\n",
    "\n",
    "# 结合image和mask作为训练数据生成器\n",
    "val_generator = zip(val_image_generator, val_mask_generator)"
   ]
  },
  {
   "cell_type": "markdown",
   "metadata": {},
   "source": [
    "### 定义模型网络结构"
   ]
  },
  {
   "cell_type": "code",
   "execution_count": 4,
   "metadata": {
    "collapsed": true
   },
   "outputs": [],
   "source": [
    "from keras.models import *\n",
    "from keras.layers import *\n",
    "from keras.optimizers import *"
   ]
  },
  {
   "cell_type": "code",
   "execution_count": 5,
   "metadata": {
    "collapsed": true
   },
   "outputs": [],
   "source": [
    "def unet(input_size = (224,224,3)):\n",
    "    \n",
    "    inputs = Input(input_size)\n",
    "    conv1 = Conv2D(64, 3, activation='relu', padding='same', kernel_initializer='he_normal')(inputs)\n",
    "    conv1 = Conv2D(64, 3, activation='relu', padding='same', kernel_initializer='he_normal')(conv1)\n",
    "    pool1 = MaxPooling2D(pool_size=(2,2))(conv1)\n",
    "    \n",
    "    conv2 = Conv2D(128, 3, activation='relu', padding='same', kernel_initializer='he_normal')(pool1)\n",
    "    conv2 = Conv2D(128, 3, activation='relu', padding='same', kernel_initializer='he_normal')(conv2)\n",
    "    pool2 = MaxPooling2D(pool_size=(2, 2))(conv2)\n",
    "    \n",
    "    conv3 = Conv2D(256, 3, activation='relu', padding='same', kernel_initializer='he_normal')(pool2)\n",
    "    conv3 = Conv2D(256, 3, activation='relu', padding='same', kernel_initializer='he_normal')(conv3)\n",
    "    pool3 = MaxPooling2D(pool_size=(2,2))(conv3)\n",
    "    \n",
    "    conv4 = Conv2D(512, 3, activation='relu', padding='same', kernel_initializer='he_normal')(pool3)\n",
    "    conv4 = Conv2D(512, 3, activation='relu', padding='same', kernel_initializer='he_normal')(conv4)\n",
    "    drop4 = Dropout(0.5)(conv4)\n",
    "    pool4 = MaxPooling2D(pool_size=(2,2))(drop4)\n",
    "\n",
    "    conv5 = Conv2D(1024, 3, activation='relu', padding='same', kernel_initializer='he_normal')(pool4)\n",
    "    conv5 = Conv2D(1024, 3, activation='relu', padding='same', kernel_initializer='he_normal')(conv5)\n",
    "    drop5 = Dropout(0.5)(conv5)\n",
    "    \n",
    "    up6 = Conv2D(512, 2, activation='relu', padding='same', kernel_initializer='he_normal')(UpSampling2D(size=(2,2))(drop5))\n",
    "    merge6 = concatenate([drop4,up6], axis=3)\n",
    "    conv6 = Conv2D(512, 3, activation='relu', padding='same', kernel_initializer='he_normal')(merge6)\n",
    "    conv6 = Conv2D(512, 3, activation='relu', padding='same', kernel_initializer='he_normal')(conv6)\n",
    "\n",
    "    up7 = Conv2D(256, 2, activation='relu', padding='same', kernel_initializer='he_normal')(UpSampling2D(size=(2,2))(conv6))\n",
    "    merge7 = concatenate([conv3,up7], axis = 3)\n",
    "    conv7 = Conv2D(256, 3, activation='relu', padding='same', kernel_initializer='he_normal')(merge7)\n",
    "    conv7 = Conv2D(256, 3, activation='relu', padding='same', kernel_initializer='he_normal')(conv7)\n",
    "\n",
    "    up8 = Conv2D(128, 2, activation='relu', padding='same', kernel_initializer='he_normal')(UpSampling2D(size=(2,2))(conv7))\n",
    "    merge8 = concatenate([conv2,up8], axis = 3)\n",
    "    conv8 = Conv2D(128, 3, activation='relu', padding='same', kernel_initializer='he_normal')(merge8)\n",
    "    conv8 = Conv2D(128, 3, activation='relu', padding='same', kernel_initializer='he_normal')(conv8)\n",
    "\n",
    "    up9 = Conv2D(64, 2, activation='relu', padding='same', kernel_initializer='he_normal')(UpSampling2D(size=(2,2))(conv8))\n",
    "    merge9 = concatenate([conv1,up9], axis = 3)\n",
    "    conv9 = Conv2D(64, 3, activation='relu', padding='same', kernel_initializer='he_normal')(merge9)\n",
    "    conv9 = Conv2D(64, 3, activation='relu', padding='same', kernel_initializer='he_normal')(conv9)\n",
    "    conv9 = Conv2D(1, 3, activation='sigmoid', padding='same', kernel_initializer='he_normal')(conv9)\n",
    "   \n",
    "    model = Model(input=inputs, output=conv9)\n",
    "    \n",
    "    return model"
   ]
  },
  {
   "cell_type": "markdown",
   "metadata": {},
   "source": [
    "### 查看模型网络结构"
   ]
  },
  {
   "cell_type": "code",
   "execution_count": 6,
   "metadata": {},
   "outputs": [
    {
     "name": "stdout",
     "output_type": "stream",
     "text": [
      "__________________________________________________________________________________________________\n",
      "Layer (type)                    Output Shape         Param #     Connected to                     \n",
      "==================================================================================================\n",
      "input_1 (InputLayer)            (None, 224, 224, 3)  0                                            \n",
      "__________________________________________________________________________________________________\n",
      "conv2d_1 (Conv2D)               (None, 224, 224, 64) 1792        input_1[0][0]                    \n",
      "__________________________________________________________________________________________________\n",
      "conv2d_2 (Conv2D)               (None, 224, 224, 64) 36928       conv2d_1[0][0]                   \n",
      "__________________________________________________________________________________________________\n",
      "max_pooling2d_1 (MaxPooling2D)  (None, 112, 112, 64) 0           conv2d_2[0][0]                   \n",
      "__________________________________________________________________________________________________\n",
      "conv2d_3 (Conv2D)               (None, 112, 112, 128 73856       max_pooling2d_1[0][0]            \n",
      "__________________________________________________________________________________________________\n",
      "conv2d_4 (Conv2D)               (None, 112, 112, 128 147584      conv2d_3[0][0]                   \n",
      "__________________________________________________________________________________________________\n",
      "max_pooling2d_2 (MaxPooling2D)  (None, 56, 56, 128)  0           conv2d_4[0][0]                   \n",
      "__________________________________________________________________________________________________\n",
      "conv2d_5 (Conv2D)               (None, 56, 56, 256)  295168      max_pooling2d_2[0][0]            \n",
      "__________________________________________________________________________________________________\n",
      "conv2d_6 (Conv2D)               (None, 56, 56, 256)  590080      conv2d_5[0][0]                   \n",
      "__________________________________________________________________________________________________\n",
      "max_pooling2d_3 (MaxPooling2D)  (None, 28, 28, 256)  0           conv2d_6[0][0]                   \n",
      "__________________________________________________________________________________________________\n",
      "conv2d_7 (Conv2D)               (None, 28, 28, 512)  1180160     max_pooling2d_3[0][0]            \n",
      "__________________________________________________________________________________________________\n",
      "conv2d_8 (Conv2D)               (None, 28, 28, 512)  2359808     conv2d_7[0][0]                   \n",
      "__________________________________________________________________________________________________\n",
      "dropout_1 (Dropout)             (None, 28, 28, 512)  0           conv2d_8[0][0]                   \n",
      "__________________________________________________________________________________________________\n",
      "max_pooling2d_4 (MaxPooling2D)  (None, 14, 14, 512)  0           dropout_1[0][0]                  \n",
      "__________________________________________________________________________________________________\n",
      "conv2d_9 (Conv2D)               (None, 14, 14, 1024) 4719616     max_pooling2d_4[0][0]            \n",
      "__________________________________________________________________________________________________\n",
      "conv2d_10 (Conv2D)              (None, 14, 14, 1024) 9438208     conv2d_9[0][0]                   \n",
      "__________________________________________________________________________________________________\n",
      "dropout_2 (Dropout)             (None, 14, 14, 1024) 0           conv2d_10[0][0]                  \n",
      "__________________________________________________________________________________________________\n",
      "up_sampling2d_1 (UpSampling2D)  (None, 28, 28, 1024) 0           dropout_2[0][0]                  \n",
      "__________________________________________________________________________________________________\n",
      "conv2d_11 (Conv2D)              (None, 28, 28, 512)  2097664     up_sampling2d_1[0][0]            \n",
      "__________________________________________________________________________________________________\n",
      "concatenate_1 (Concatenate)     (None, 28, 28, 1024) 0           dropout_1[0][0]                  \n",
      "                                                                 conv2d_11[0][0]                  \n",
      "__________________________________________________________________________________________________\n",
      "conv2d_12 (Conv2D)              (None, 28, 28, 512)  4719104     concatenate_1[0][0]              \n",
      "__________________________________________________________________________________________________\n",
      "conv2d_13 (Conv2D)              (None, 28, 28, 512)  2359808     conv2d_12[0][0]                  \n",
      "__________________________________________________________________________________________________\n",
      "up_sampling2d_2 (UpSampling2D)  (None, 56, 56, 512)  0           conv2d_13[0][0]                  \n",
      "__________________________________________________________________________________________________\n",
      "conv2d_14 (Conv2D)              (None, 56, 56, 256)  524544      up_sampling2d_2[0][0]            \n",
      "__________________________________________________________________________________________________\n",
      "concatenate_2 (Concatenate)     (None, 56, 56, 512)  0           conv2d_6[0][0]                   \n",
      "                                                                 conv2d_14[0][0]                  \n",
      "__________________________________________________________________________________________________\n",
      "conv2d_15 (Conv2D)              (None, 56, 56, 256)  1179904     concatenate_2[0][0]              \n",
      "__________________________________________________________________________________________________\n",
      "conv2d_16 (Conv2D)              (None, 56, 56, 256)  590080      conv2d_15[0][0]                  \n",
      "__________________________________________________________________________________________________\n",
      "up_sampling2d_3 (UpSampling2D)  (None, 112, 112, 256 0           conv2d_16[0][0]                  \n",
      "__________________________________________________________________________________________________\n",
      "conv2d_17 (Conv2D)              (None, 112, 112, 128 131200      up_sampling2d_3[0][0]            \n",
      "__________________________________________________________________________________________________\n",
      "concatenate_3 (Concatenate)     (None, 112, 112, 256 0           conv2d_4[0][0]                   \n",
      "                                                                 conv2d_17[0][0]                  \n",
      "__________________________________________________________________________________________________\n",
      "conv2d_18 (Conv2D)              (None, 112, 112, 128 295040      concatenate_3[0][0]              \n",
      "__________________________________________________________________________________________________\n",
      "conv2d_19 (Conv2D)              (None, 112, 112, 128 147584      conv2d_18[0][0]                  \n",
      "__________________________________________________________________________________________________\n",
      "up_sampling2d_4 (UpSampling2D)  (None, 224, 224, 128 0           conv2d_19[0][0]                  \n",
      "__________________________________________________________________________________________________\n",
      "conv2d_20 (Conv2D)              (None, 224, 224, 64) 32832       up_sampling2d_4[0][0]            \n",
      "__________________________________________________________________________________________________\n",
      "concatenate_4 (Concatenate)     (None, 224, 224, 128 0           conv2d_2[0][0]                   \n",
      "                                                                 conv2d_20[0][0]                  \n",
      "__________________________________________________________________________________________________\n",
      "conv2d_21 (Conv2D)              (None, 224, 224, 64) 73792       concatenate_4[0][0]              \n",
      "__________________________________________________________________________________________________\n",
      "conv2d_22 (Conv2D)              (None, 224, 224, 64) 36928       conv2d_21[0][0]                  \n",
      "__________________________________________________________________________________________________\n",
      "conv2d_23 (Conv2D)              (None, 224, 224, 1)  577         conv2d_22[0][0]                  \n",
      "==================================================================================================\n",
      "Total params: 31,032,257\n",
      "Trainable params: 31,032,257\n",
      "Non-trainable params: 0\n",
      "__________________________________________________________________________________________________\n"
     ]
    },
    {
     "name": "stderr",
     "output_type": "stream",
     "text": [
      "/opt/Anaconda3/lib/python3.6/site-packages/ipykernel_launcher.py:46: UserWarning: Update your `Model` call to the Keras 2 API: `Model(inputs=Tensor(\"in..., outputs=Tensor(\"co...)`\n"
     ]
    }
   ],
   "source": [
    "model= unet(input_size=(224,224,3))\n",
    "model.summary()"
   ]
  },
  {
   "cell_type": "markdown",
   "metadata": {},
   "source": [
    "### 编译模型"
   ]
  },
  {
   "cell_type": "code",
   "execution_count": 8,
   "metadata": {
    "collapsed": true
   },
   "outputs": [],
   "source": [
    "from keras.utils import multi_gpu_model\n",
    "# 以数据并行的方式执行多GPU计算\n",
    "parallel_model = multi_gpu_model(model, gpus=2)\n",
    "\n",
    "# 编译并行模型\n",
    "opt = Adam(lr=0.001, beta_1=0.9, beta_2=0.999, epsilon=10e-8, decay=0.001, amsgrad=False)\n",
    "parallel_model.compile(loss='binary_crossentropy',metrics=['accuracy'],optimizer=opt)"
   ]
  },
  {
   "cell_type": "markdown",
   "metadata": {},
   "source": [
    "### 设置callbacks"
   ]
  },
  {
   "cell_type": "code",
   "execution_count": null,
   "metadata": {
    "collapsed": true
   },
   "outputs": [],
   "source": [
    "from keras.callbacksimport EarlyStopping, ModelCheckpoint\n",
    "\n",
    "# 配置CheckPoint\n",
    "check_point = ModelCheckpoint(filepath='./Models/unet.h5', monitor='val_acc', \n",
    "                             save_weights_only=False,\n",
    "                             verbose=2,\n",
    "                             save_best_only=True, \n",
    "                             period=1)\n",
    "# 配置Early Stopping\n",
    "early_stopping = EarlyStopping(monitor='val_acc', \n",
    "                               patience=10, \n",
    "                               verbose=0, \n",
    "                               mode='auto')"
   ]
  },
  {
   "cell_type": "markdown",
   "metadata": {},
   "source": [
    "### 训练并保存模型到指定位置"
   ]
  },
  {
   "cell_type": "code",
   "execution_count": 9,
   "metadata": {},
   "outputs": [
    {
     "name": "stdout",
     "output_type": "stream",
     "text": [
      "Epoch 1/100\n",
      "126/126 [==============================] - 83s 657ms/step - loss: 0.5462 - acc: 0.7275 - val_loss: 0.4475 - val_acc: 0.7547\n",
      "Epoch 2/100\n",
      "126/126 [==============================] - 81s 639ms/step - loss: 0.4684 - acc: 0.7498 - val_loss: 0.4570 - val_acc: 0.7719\n",
      "Epoch 3/100\n",
      "126/126 [==============================] - 84s 670ms/step - loss: 0.4593 - acc: 0.7582 - val_loss: 0.5440 - val_acc: 0.7497\n",
      "Epoch 4/100\n",
      "126/126 [==============================] - 87s 690ms/step - loss: 0.4399 - acc: 0.7700 - val_loss: 0.4019 - val_acc: 0.7880\n",
      "Epoch 5/100\n",
      "126/126 [==============================] - 90s 718ms/step - loss: 0.4188 - acc: 0.7814 - val_loss: 0.4290 - val_acc: 0.7719\n",
      "Epoch 6/100\n",
      "126/126 [==============================] - 90s 716ms/step - loss: 0.4100 - acc: 0.7870 - val_loss: 0.4080 - val_acc: 0.7913\n",
      "Epoch 7/100\n",
      "126/126 [==============================] - 93s 735ms/step - loss: 0.3993 - acc: 0.7923 - val_loss: 0.3650 - val_acc: 0.8090\n",
      "Epoch 8/100\n",
      "126/126 [==============================] - 90s 714ms/step - loss: 0.3884 - acc: 0.7989 - val_loss: 0.3608 - val_acc: 0.8108\n",
      "Epoch 9/100\n",
      "126/126 [==============================] - 93s 741ms/step - loss: 0.3888 - acc: 0.7981 - val_loss: 0.3460 - val_acc: 0.8188\n",
      "Epoch 10/100\n",
      "126/126 [==============================] - 89s 706ms/step - loss: 0.3768 - acc: 0.8051 - val_loss: 0.3763 - val_acc: 0.8025\n",
      "Epoch 11/100\n",
      "126/126 [==============================] - 94s 748ms/step - loss: 0.3673 - acc: 0.8094 - val_loss: 0.3341 - val_acc: 0.8235\n",
      "Epoch 12/100\n",
      "126/126 [==============================] - 93s 736ms/step - loss: 0.3575 - acc: 0.8140 - val_loss: 0.3219 - val_acc: 0.8312\n",
      "Epoch 13/100\n",
      "126/126 [==============================] - 93s 741ms/step - loss: 0.3547 - acc: 0.8162 - val_loss: 0.3189 - val_acc: 0.8326\n",
      "Epoch 14/100\n",
      "126/126 [==============================] - 91s 725ms/step - loss: 0.3455 - acc: 0.8196 - val_loss: 0.3329 - val_acc: 0.8251\n",
      "Epoch 15/100\n",
      "126/126 [==============================] - 96s 758ms/step - loss: 0.3433 - acc: 0.8218 - val_loss: 0.3147 - val_acc: 0.8358\n",
      "Epoch 16/100\n",
      "126/126 [==============================] - 92s 734ms/step - loss: 0.3377 - acc: 0.8268 - val_loss: 0.3320 - val_acc: 0.8230\n",
      "Epoch 17/100\n",
      "126/126 [==============================] - 92s 731ms/step - loss: 0.3335 - acc: 0.8273 - val_loss: 0.3044 - val_acc: 0.8413\n",
      "Epoch 18/100\n",
      "126/126 [==============================] - 91s 723ms/step - loss: 0.3239 - acc: 0.8329 - val_loss: 0.3250 - val_acc: 0.8299\n",
      "Epoch 19/100\n",
      "126/126 [==============================] - 92s 727ms/step - loss: 0.3343 - acc: 0.8284 - val_loss: 0.2844 - val_acc: 0.8517\n",
      "Epoch 20/100\n",
      "126/126 [==============================] - 95s 757ms/step - loss: 0.3167 - acc: 0.8352 - val_loss: 0.2931 - val_acc: 0.8443\n",
      "Epoch 21/100\n",
      "126/126 [==============================] - 91s 724ms/step - loss: 0.3081 - acc: 0.8407 - val_loss: 0.2972 - val_acc: 0.8425\n",
      "Epoch 22/100\n",
      "126/126 [==============================] - 93s 738ms/step - loss: 0.3071 - acc: 0.8406 - val_loss: 0.3037 - val_acc: 0.8415\n",
      "Epoch 23/100\n",
      "126/126 [==============================] - 95s 754ms/step - loss: 0.3007 - acc: 0.8441 - val_loss: 0.2829 - val_acc: 0.8516\n",
      "Epoch 24/100\n",
      "126/126 [==============================] - 93s 738ms/step - loss: 0.2909 - acc: 0.8490 - val_loss: 0.2791 - val_acc: 0.8552\n",
      "Epoch 25/100\n",
      "126/126 [==============================] - 93s 739ms/step - loss: 0.2855 - acc: 0.8525 - val_loss: 0.2845 - val_acc: 0.8501\n",
      "Epoch 26/100\n",
      "126/126 [==============================] - 93s 736ms/step - loss: 0.2825 - acc: 0.8536 - val_loss: 0.2906 - val_acc: 0.8458\n",
      "Epoch 27/100\n",
      "126/126 [==============================] - 93s 742ms/step - loss: 0.2906 - acc: 0.8512 - val_loss: 0.2653 - val_acc: 0.8634\n",
      "Epoch 28/100\n",
      "126/126 [==============================] - 93s 735ms/step - loss: 0.2854 - acc: 0.8527 - val_loss: 0.2477 - val_acc: 0.8699\n",
      "Epoch 29/100\n",
      "126/126 [==============================] - 94s 748ms/step - loss: 0.2714 - acc: 0.8586 - val_loss: 0.2595 - val_acc: 0.8650\n",
      "Epoch 30/100\n",
      "126/126 [==============================] - 94s 744ms/step - loss: 0.2686 - acc: 0.8610 - val_loss: 0.2502 - val_acc: 0.8681\n",
      "Epoch 31/100\n",
      "126/126 [==============================] - 91s 724ms/step - loss: 0.2695 - acc: 0.8602 - val_loss: 0.2545 - val_acc: 0.8691\n",
      "Epoch 32/100\n",
      "126/126 [==============================] - 94s 747ms/step - loss: 0.2685 - acc: 0.8601 - val_loss: 0.2562 - val_acc: 0.8651\n",
      "Epoch 33/100\n",
      "126/126 [==============================] - 93s 738ms/step - loss: 0.2612 - acc: 0.8633 - val_loss: 0.2512 - val_acc: 0.8692\n",
      "Epoch 34/100\n",
      "126/126 [==============================] - 94s 747ms/step - loss: 0.2564 - acc: 0.8658 - val_loss: 0.2367 - val_acc: 0.8745\n",
      "Epoch 35/100\n",
      "126/126 [==============================] - 97s 771ms/step - loss: 0.2534 - acc: 0.8668 - val_loss: 0.2355 - val_acc: 0.8748\n",
      "Epoch 36/100\n",
      "126/126 [==============================] - 96s 759ms/step - loss: 0.2492 - acc: 0.8695 - val_loss: 0.2429 - val_acc: 0.8720\n",
      "Epoch 37/100\n",
      "126/126 [==============================] - 92s 733ms/step - loss: 0.2499 - acc: 0.8691 - val_loss: 0.2414 - val_acc: 0.8725\n",
      "Epoch 38/100\n",
      "126/126 [==============================] - 93s 734ms/step - loss: 0.2434 - acc: 0.8713 - val_loss: 0.2399 - val_acc: 0.8727\n",
      "Epoch 39/100\n",
      "126/126 [==============================] - 93s 738ms/step - loss: 0.2415 - acc: 0.8719 - val_loss: 0.2512 - val_acc: 0.8681\n",
      "Epoch 40/100\n",
      "126/126 [==============================] - 93s 742ms/step - loss: 0.2441 - acc: 0.8716 - val_loss: 0.2265 - val_acc: 0.8799\n",
      "Epoch 41/100\n",
      "126/126 [==============================] - 95s 753ms/step - loss: 0.2337 - acc: 0.8765 - val_loss: 0.2330 - val_acc: 0.8755\n",
      "Epoch 42/100\n",
      "126/126 [==============================] - 92s 731ms/step - loss: 0.2357 - acc: 0.8754 - val_loss: 0.2428 - val_acc: 0.8714\n",
      "Epoch 43/100\n",
      "126/126 [==============================] - 93s 739ms/step - loss: 0.2396 - acc: 0.8728 - val_loss: 0.2286 - val_acc: 0.8785\n",
      "Epoch 44/100\n",
      "126/126 [==============================] - 94s 750ms/step - loss: 0.2321 - acc: 0.8775 - val_loss: 0.2233 - val_acc: 0.8806\n",
      "Epoch 45/100\n",
      "126/126 [==============================] - 94s 743ms/step - loss: 0.2278 - acc: 0.8789 - val_loss: 0.2342 - val_acc: 0.8764\n",
      "Epoch 46/100\n",
      "126/126 [==============================] - 96s 763ms/step - loss: 0.2233 - acc: 0.8805 - val_loss: 0.2260 - val_acc: 0.8772\n",
      "Epoch 47/100\n",
      "126/126 [==============================] - 96s 759ms/step - loss: 0.2287 - acc: 0.8783 - val_loss: 0.2228 - val_acc: 0.8805\n",
      "Epoch 48/100\n",
      "126/126 [==============================] - 93s 737ms/step - loss: 0.2221 - acc: 0.8816 - val_loss: 0.2293 - val_acc: 0.8778\n",
      "Epoch 49/100\n",
      "126/126 [==============================] - 93s 735ms/step - loss: 0.2198 - acc: 0.8824 - val_loss: 0.2331 - val_acc: 0.8750\n",
      "Epoch 50/100\n",
      "126/126 [==============================] - 92s 732ms/step - loss: 0.2251 - acc: 0.8791 - val_loss: 0.2165 - val_acc: 0.8839\n",
      "Epoch 51/100\n",
      "126/126 [==============================] - 95s 751ms/step - loss: 0.2200 - acc: 0.8824 - val_loss: 0.2181 - val_acc: 0.8833\n",
      "Epoch 52/100\n",
      "126/126 [==============================] - 93s 739ms/step - loss: 0.2145 - acc: 0.8845 - val_loss: 0.2194 - val_acc: 0.8821\n",
      "Epoch 53/100\n",
      "126/126 [==============================] - 93s 737ms/step - loss: 0.2145 - acc: 0.8842 - val_loss: 0.2198 - val_acc: 0.8825\n",
      "Epoch 54/100\n",
      "126/126 [==============================] - 94s 748ms/step - loss: 0.2140 - acc: 0.8838 - val_loss: 0.2178 - val_acc: 0.8843\n",
      "Epoch 55/100\n",
      "126/126 [==============================] - 94s 743ms/step - loss: 0.2081 - acc: 0.8867 - val_loss: 0.2190 - val_acc: 0.8821\n",
      "Epoch 56/100\n",
      "126/126 [==============================] - 94s 746ms/step - loss: 0.2052 - acc: 0.8888 - val_loss: 0.2223 - val_acc: 0.8820\n",
      "Epoch 57/100\n",
      "126/126 [==============================] - 94s 744ms/step - loss: 0.2099 - acc: 0.8866 - val_loss: 0.2196 - val_acc: 0.8832\n",
      "Epoch 58/100\n",
      "126/126 [==============================] - 95s 757ms/step - loss: 0.2046 - acc: 0.8892 - val_loss: 0.2153 - val_acc: 0.8849\n",
      "Epoch 59/100\n",
      "126/126 [==============================] - 93s 741ms/step - loss: 0.2036 - acc: 0.8894 - val_loss: 0.2049 - val_acc: 0.8892\n",
      "Epoch 60/100\n",
      "126/126 [==============================] - 96s 765ms/step - loss: 0.2028 - acc: 0.8900 - val_loss: 0.2284 - val_acc: 0.8766\n"
     ]
    },
    {
     "name": "stdout",
     "output_type": "stream",
     "text": [
      "Epoch 61/100\n",
      "126/126 [==============================] - 97s 774ms/step - loss: 0.1993 - acc: 0.8906 - val_loss: 0.2146 - val_acc: 0.8862\n",
      "Epoch 62/100\n",
      "126/126 [==============================] - 94s 747ms/step - loss: 0.1983 - acc: 0.8912 - val_loss: 0.2009 - val_acc: 0.8919\n",
      "Epoch 63/100\n",
      "126/126 [==============================] - 96s 762ms/step - loss: 0.1996 - acc: 0.8912 - val_loss: 0.2071 - val_acc: 0.8896\n",
      "Epoch 64/100\n",
      "126/126 [==============================] - 94s 743ms/step - loss: 0.1995 - acc: 0.8913 - val_loss: 0.2099 - val_acc: 0.8865\n",
      "Epoch 65/100\n",
      "126/126 [==============================] - 94s 750ms/step - loss: 0.1934 - acc: 0.8940 - val_loss: 0.2102 - val_acc: 0.8878\n",
      "Epoch 66/100\n",
      "126/126 [==============================] - 93s 742ms/step - loss: 0.1889 - acc: 0.8956 - val_loss: 0.2119 - val_acc: 0.8867\n",
      "Epoch 67/100\n",
      "126/126 [==============================] - 95s 757ms/step - loss: 0.1935 - acc: 0.8941 - val_loss: 0.2179 - val_acc: 0.8827\n",
      "Epoch 68/100\n",
      "126/126 [==============================] - 93s 740ms/step - loss: 0.1902 - acc: 0.8955 - val_loss: 0.2047 - val_acc: 0.8890\n",
      "Epoch 69/100\n",
      "126/126 [==============================] - 94s 744ms/step - loss: 0.1883 - acc: 0.8963 - val_loss: 0.2049 - val_acc: 0.8902\n",
      "Epoch 70/100\n",
      "126/126 [==============================] - 94s 744ms/step - loss: 0.1886 - acc: 0.8961 - val_loss: 0.2191 - val_acc: 0.8842\n",
      "Epoch 71/100\n",
      "126/126 [==============================] - 96s 758ms/step - loss: 0.1842 - acc: 0.8979 - val_loss: 0.2033 - val_acc: 0.8904\n",
      "Epoch 72/100\n",
      "126/126 [==============================] - 95s 751ms/step - loss: 0.1880 - acc: 0.8957 - val_loss: 0.2067 - val_acc: 0.8902\n",
      "Epoch 73/100\n",
      "126/126 [==============================] - 94s 749ms/step - loss: 0.1828 - acc: 0.8978 - val_loss: 0.2055 - val_acc: 0.8903\n",
      "Epoch 74/100\n",
      "126/126 [==============================] - 94s 743ms/step - loss: 0.1844 - acc: 0.8986 - val_loss: 0.2193 - val_acc: 0.8849\n",
      "Epoch 75/100\n",
      "126/126 [==============================] - 96s 759ms/step - loss: 0.1887 - acc: 0.8967 - val_loss: 0.1991 - val_acc: 0.8931\n",
      "Epoch 76/100\n",
      "126/126 [==============================] - 94s 746ms/step - loss: 0.1790 - acc: 0.8991 - val_loss: 0.2032 - val_acc: 0.8921\n",
      "Epoch 77/100\n",
      "126/126 [==============================] - 94s 750ms/step - loss: 0.1784 - acc: 0.8995 - val_loss: 0.2049 - val_acc: 0.8892\n",
      "Epoch 78/100\n",
      "126/126 [==============================] - 93s 738ms/step - loss: 0.1833 - acc: 0.8971 - val_loss: 0.2013 - val_acc: 0.8913\n",
      "Epoch 79/100\n",
      "126/126 [==============================] - 97s 771ms/step - loss: 0.1841 - acc: 0.8976 - val_loss: 0.2041 - val_acc: 0.8880\n",
      "Epoch 80/100\n",
      "126/126 [==============================] - 94s 743ms/step - loss: 0.1751 - acc: 0.9019 - val_loss: 0.1989 - val_acc: 0.8930\n",
      "Epoch 81/100\n",
      "126/126 [==============================] - 96s 758ms/step - loss: 0.1741 - acc: 0.9019 - val_loss: 0.1998 - val_acc: 0.8916\n",
      "Epoch 82/100\n",
      "126/126 [==============================] - 96s 759ms/step - loss: 0.1733 - acc: 0.9019 - val_loss: 0.2069 - val_acc: 0.8917\n",
      "Epoch 83/100\n",
      "126/126 [==============================] - 96s 759ms/step - loss: 0.1722 - acc: 0.9022 - val_loss: 0.2041 - val_acc: 0.8895\n",
      "Epoch 84/100\n",
      "126/126 [==============================] - 94s 750ms/step - loss: 0.1750 - acc: 0.9015 - val_loss: 0.2002 - val_acc: 0.8930\n",
      "Epoch 85/100\n",
      "126/126 [==============================] - 95s 756ms/step - loss: 0.1727 - acc: 0.9024 - val_loss: 0.2015 - val_acc: 0.8902\n",
      "Epoch 86/100\n",
      "126/126 [==============================] - 96s 758ms/step - loss: 0.1690 - acc: 0.9044 - val_loss: 0.2006 - val_acc: 0.8921\n",
      "Epoch 87/100\n",
      "126/126 [==============================] - 98s 775ms/step - loss: 0.1711 - acc: 0.9031 - val_loss: 0.2137 - val_acc: 0.8845\n",
      "Epoch 88/100\n",
      "126/126 [==============================] - 94s 750ms/step - loss: 0.1696 - acc: 0.9040 - val_loss: 0.2029 - val_acc: 0.8898\n",
      "Epoch 89/100\n",
      "126/126 [==============================] - 94s 744ms/step - loss: 0.1665 - acc: 0.9050 - val_loss: 0.1987 - val_acc: 0.8917\n",
      "Epoch 90/100\n",
      "126/126 [==============================] - 93s 737ms/step - loss: 0.1693 - acc: 0.9036 - val_loss: 0.1999 - val_acc: 0.8926\n",
      "Epoch 91/100\n",
      "126/126 [==============================] - 94s 747ms/step - loss: 0.1700 - acc: 0.9037 - val_loss: 0.2000 - val_acc: 0.8931\n",
      "Epoch 92/100\n",
      "126/126 [==============================] - 94s 750ms/step - loss: 0.1697 - acc: 0.9040 - val_loss: 0.1963 - val_acc: 0.8941\n",
      "Epoch 93/100\n",
      "126/126 [==============================] - 94s 749ms/step - loss: 0.1613 - acc: 0.9071 - val_loss: 0.1942 - val_acc: 0.8970\n",
      "Epoch 94/100\n",
      "126/126 [==============================] - 95s 752ms/step - loss: 0.1652 - acc: 0.9056 - val_loss: 0.2035 - val_acc: 0.8903\n",
      "Epoch 95/100\n",
      "126/126 [==============================] - 94s 745ms/step - loss: 0.1617 - acc: 0.9069 - val_loss: 0.1957 - val_acc: 0.8947\n",
      "Epoch 96/100\n",
      "126/126 [==============================] - 96s 764ms/step - loss: 0.1606 - acc: 0.9077 - val_loss: 0.1976 - val_acc: 0.8935\n",
      "Epoch 97/100\n",
      "126/126 [==============================] - 93s 740ms/step - loss: 0.1631 - acc: 0.9066 - val_loss: 0.2041 - val_acc: 0.8908\n",
      "Epoch 98/100\n",
      "126/126 [==============================] - 94s 746ms/step - loss: 0.1585 - acc: 0.9085 - val_loss: 0.2022 - val_acc: 0.8901\n",
      "Epoch 99/100\n",
      "126/126 [==============================] - 96s 762ms/step - loss: 0.1573 - acc: 0.9082 - val_loss: 0.2014 - val_acc: 0.8919\n",
      "Epoch 100/100\n",
      "126/126 [==============================] - 95s 751ms/step - loss: 0.1579 - acc: 0.9085 - val_loss: 0.2091 - val_acc: 0.8927\n"
     ]
    }
   ],
   "source": [
    "# 计算相关参数：steps_per_epoch\n",
    "steps_train = len(train_image_generator)\n",
    "steps_val = len(val_image_generator)\n",
    "\n",
    "# 训练模型\n",
    "log =parallel_model.fit_generator(train_generator, \n",
    "                                  epochs=100, verbose=1,\n",
    "                                  steps_per_epoch=steps_train,\n",
    "                                  validation_data=val_generator,\n",
    "                                  validation_steps=steps_val,\n",
    "                                  callbacks=[early_stopping,check_point])\n",
    "\n",
    "# 创建模型保存文件夹\n",
    "folder_path = 'Models'\n",
    "if not os.path.exists(folder_path):\n",
    "    os.mkdir(folder_path)\n",
    "    \n",
    "# 保存模型到指定文件夹\n",
    "file_path = os.path.join(folder_path,'unet_final.h5')\n",
    "model.save(file_path)"
   ]
  },
  {
   "cell_type": "markdown",
   "metadata": {},
   "source": [
    "### 可视化训练指标"
   ]
  },
  {
   "cell_type": "code",
   "execution_count": 11,
   "metadata": {},
   "outputs": [
    {
     "data": {
      "image/png": "[encoded data removed]",
      "text/plain": [
       "<matplotlib.figure.Figure at 0x7fb350461358>"
      ]
     },
     "metadata": {},
     "output_type": "display_data"
    }
   ],
   "source": [
    "plt.plot(log.history['acc'])\n",
    "plt.plot(log.history['val_acc'])\n",
    "plt.title('Model Accuracy')\n",
    "plt.ylabel('accuracy')\n",
    "plt.xlabel('epoch')\n",
    "plt.legend(['train', 'val'], loc='lower right')\n",
    "plt.tight_layout()"
   ]
  },
  {
   "cell_type": "code",
   "execution_count": 12,
   "metadata": {},
   "outputs": [
    {
     "data": {
      "image/png": "[encoded data removed]",
      "text/plain": [
       "<matplotlib.figure.Figure at 0x7fb350400eb8>"
      ]
     },
     "metadata": {},
     "output_type": "display_data"
    }
   ],
   "source": [
    "plt.plot(log.history['loss'])\n",
    "plt.plot(log.history['val_loss'])\n",
    "plt.title('Model Loss')\n",
    "plt.ylabel('loss')\n",
    "plt.xlabel('epoch')\n",
    "plt.legend(['train', 'val'], loc='upper right')\n",
    "plt.tight_layout()"
   ]
  },
  {
   "cell_type": "markdown",
   "metadata": {},
   "source": [
    "### CheckPoint - 测试评估"
   ]
  },
  {
   "cell_type": "markdown",
   "metadata": {},
   "source": [
    "- 导入相关库"
   ]
  },
  {
   "cell_type": "code",
   "execution_count": 12,
   "metadata": {},
   "outputs": [],
   "source": [
    "from keras.models import load_model\n",
    "from matplotlib import pyplot as plt\n",
    "from time import time\n",
    "import numpy as np\n",
    "import os\n",
    "import cv2\n",
    "\n",
    "%matplotlib inline"
   ]
  },
  {
   "cell_type": "markdown",
   "metadata": {},
   "source": [
    "- 导入模型"
   ]
  },
  {
   "cell_type": "code",
   "execution_count": 13,
   "metadata": {},
   "outputs": [],
   "source": [
    "file_path = 'Models/unet.h5'\n",
    "model = load_model(file_path) "
   ]
  },
  {
   "cell_type": "markdown",
   "metadata": {},
   "source": [
    "- 导入测试图片"
   ]
  },
  {
   "cell_type": "code",
   "execution_count": 20,
   "metadata": {},
   "outputs": [],
   "source": [
    "test_images = []\n",
    "for file in os.listdir('data/val/images/0'):\n",
    "    file_path = os.path.join('data/val/images/0',file)\n",
    "    test_images.append(file_path)"
   ]
  },
  {
   "cell_type": "markdown",
   "metadata": {},
   "source": [
    "- 可视化原图和Mask"
   ]
  },
  {
   "cell_type": "code",
   "execution_count": 27,
   "metadata": {},
   "outputs": [
    {
     "name": "stdout",
     "output_type": "stream",
     "text": [
      "Time:1.6556s\n"
     ]
    },
    {
     "data": {
      "text/plain": [
       "<matplotlib.image.AxesImage at 0x2402698ac88>"
      ]
     },
     "execution_count": 27,
     "metadata": {},
     "output_type": "execute_result"
    },
    {
     "data": {
      "image/png": "[encoded data removed]",
      "text/plain": [
       "<Figure size 432x288 with 2 Axes>"
      ]
     },
     "metadata": {
      "needs_background": "light"
     },
     "output_type": "display_data"
    }
   ],
   "source": [
    "# 选择测试图片\n",
    "img_path = test_images[0]\n",
    "\n",
    "# 绘制原图\n",
    "plt.subplot(121)\n",
    "img = cv2.imread(img_path)\n",
    "img = cv2.cvtColor(img, cv2.COLOR_BGR2RGB)\n",
    "img = cv2.resize(img,(224,224))\n",
    "\n",
    "# 绘制Mask\n",
    "plt.imshow(img.astype('uint8'))\n",
    "plt.subplot(122)\n",
    "img = np.reshape(img,(1,224,224,3)) / 255.0\n",
    "start = time()\n",
    "pred = model.predict(img)\n",
    "end = time()\n",
    "print('Time:%.4fs'%(end-start))\n",
    "pred = np.reshape(pred,(224,224))\n",
    "plt.imshow(pred, cmap='gray')"
   ]
  },
  {
   "cell_type": "code",
   "execution_count": null,
   "metadata": {
    "collapsed": true
   },
   "outputs": [],
   "source": []
  }
 ],
 "metadata": {
  "kernelspec": {
   "display_name": "Python 3",
   "language": "python",
   "name": "python3"
  },
  "language_info": {
   "codemirror_mode": {
    "name": "ipython",
    "version": 3
   },
   "file_extension": ".py",
   "mimetype": "text/x-python",
   "name": "python",
   "nbconvert_exporter": "python",
   "pygments_lexer": "ipython3",
   "version": "3.7.1"
  }
 },
 "nbformat": 4,
 "nbformat_minor": 2
}
